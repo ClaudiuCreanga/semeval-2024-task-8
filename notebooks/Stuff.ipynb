{
 "cells": [
  {
   "cell_type": "code",
   "execution_count": 1,
   "id": "92e2aa69",
   "metadata": {},
   "outputs": [
    {
     "name": "stdout",
     "output_type": "stream",
     "text": [
      "False\n",
      "False\n"
     ]
    }
   ],
   "source": [
    "import torch\n",
    "\n",
    "print(torch.backends.mps.is_available())\n",
    "print(torch.backends.mps.is_built())"
   ]
  },
  {
   "cell_type": "code",
   "execution_count": 3,
   "id": "d8b6063e",
   "metadata": {},
   "outputs": [
    {
     "name": "stdout",
     "output_type": "stream",
     "text": [
      "True\n"
     ]
    }
   ],
   "source": [
    "print(torch.cuda.is_available())"
   ]
  },
  {
   "cell_type": "code",
   "execution_count": 2,
   "id": "807a0dd3",
   "metadata": {},
   "outputs": [
    {
     "name": "stderr",
     "output_type": "stream",
     "text": [
      "Using 16-bit Automatic Mixed Precision (AMP)\n"
     ]
    }
   ],
   "source": [
    "from lightning import Fabric\n",
    "\n",
    "fabric = Fabric(\n",
    "    accelerator=\"cuda\",\n",
    "    strategy=\"deepspeed_stage_2\",\n",
    "    precision=\"16-mixed\"\n",
    ")\n",
    "fabric.launch()"
   ]
  },
  {
   "cell_type": "code",
   "execution_count": 9,
   "id": "bb27920a-4b05-4c06-a753-58a7d1ca9e6d",
   "metadata": {},
   "outputs": [
    {
     "data": {
      "text/html": [
       "<div>\n",
       "<style scoped>\n",
       "    .dataframe tbody tr th:only-of-type {\n",
       "        vertical-align: middle;\n",
       "    }\n",
       "\n",
       "    .dataframe tbody tr th {\n",
       "        vertical-align: top;\n",
       "    }\n",
       "\n",
       "    .dataframe thead th {\n",
       "        text-align: right;\n",
       "    }\n",
       "</style>\n",
       "<table border=\"1\" class=\"dataframe\">\n",
       "  <thead>\n",
       "    <tr style=\"text-align: right;\">\n",
       "      <th></th>\n",
       "      <th>text</th>\n",
       "      <th>id</th>\n",
       "    </tr>\n",
       "  </thead>\n",
       "  <tbody>\n",
       "    <tr>\n",
       "      <th>0</th>\n",
       "      <td>In today's world, there are more ways to commu...</td>\n",
       "      <td>0</td>\n",
       "    </tr>\n",
       "    <tr>\n",
       "      <th>1</th>\n",
       "      <td>Das Konzept der Primärversorgung soll in Zukun...</td>\n",
       "      <td>1</td>\n",
       "    </tr>\n",
       "    <tr>\n",
       "      <th>2</th>\n",
       "      <td>Driverless vehicles have been around for many ...</td>\n",
       "      <td>2</td>\n",
       "    </tr>\n",
       "    <tr>\n",
       "      <th>3</th>\n",
       "      <td>The current electoral college process used for...</td>\n",
       "      <td>3</td>\n",
       "    </tr>\n",
       "    <tr>\n",
       "      <th>4</th>\n",
       "      <td>يعتبر خبير التغذية الألماني أوفه كنوب أن رائحة...</td>\n",
       "      <td>4</td>\n",
       "    </tr>\n",
       "    <tr>\n",
       "      <th>...</th>\n",
       "      <td>...</td>\n",
       "      <td>...</td>\n",
       "    </tr>\n",
       "    <tr>\n",
       "      <th>42373</th>\n",
       "      <td>Have you ever thought about purchasing a drive...</td>\n",
       "      <td>42373</td>\n",
       "    </tr>\n",
       "    <tr>\n",
       "      <th>42374</th>\n",
       "      <td>Cars are most the most used machine for transp...</td>\n",
       "      <td>42374</td>\n",
       "    </tr>\n",
       "    <tr>\n",
       "      <th>42375</th>\n",
       "      <td>In the article \"Making Mona Lisa Smile\", the a...</td>\n",
       "      <td>42375</td>\n",
       "    </tr>\n",
       "    <tr>\n",
       "      <th>42376</th>\n",
       "      <td>Un sogno che si avvera. Due donne, separate in...</td>\n",
       "      <td>42376</td>\n",
       "    </tr>\n",
       "    <tr>\n",
       "      <th>42377</th>\n",
       "      <td>In der Sprache findet gerade ein erbitterter K...</td>\n",
       "      <td>42377</td>\n",
       "    </tr>\n",
       "  </tbody>\n",
       "</table>\n",
       "<p>42378 rows × 2 columns</p>\n",
       "</div>"
      ],
      "text/plain": [
       "                                                    text     id\n",
       "0      In today's world, there are more ways to commu...      0\n",
       "1      Das Konzept der Primärversorgung soll in Zukun...      1\n",
       "2      Driverless vehicles have been around for many ...      2\n",
       "3      The current electoral college process used for...      3\n",
       "4      يعتبر خبير التغذية الألماني أوفه كنوب أن رائحة...      4\n",
       "...                                                  ...    ...\n",
       "42373  Have you ever thought about purchasing a drive...  42373\n",
       "42374  Cars are most the most used machine for transp...  42374\n",
       "42375  In the article \"Making Mona Lisa Smile\", the a...  42375\n",
       "42376  Un sogno che si avvera. Due donne, separate in...  42376\n",
       "42377  In der Sprache findet gerade ein erbitterter K...  42377\n",
       "\n",
       "[42378 rows x 2 columns]"
      ]
     },
     "execution_count": 9,
     "metadata": {},
     "output_type": "execute_result"
    }
   ],
   "source": [
    "import pandas as pd\n",
    "df_test = pd.read_json(\"/Users/ccreanga/projects/machine-generated_text_detection/data/original_data/SubtaskA/subtaskA_test_multilingual.jsonl\", lines=True)\n",
    "df_test"
   ]
  },
  {
   "cell_type": "code",
   "execution_count": null,
   "id": "ece04023-1de1-4474-9536-15ea977f0cf9",
   "metadata": {},
   "outputs": [],
   "source": []
  }
 ],
 "metadata": {
  "kernelspec": {
   "display_name": "Python 3 (ipykernel)",
   "language": "python",
   "name": "python3"
  },
  "language_info": {
   "codemirror_mode": {
    "name": "ipython",
    "version": 3
   },
   "file_extension": ".py",
   "mimetype": "text/x-python",
   "name": "python",
   "nbconvert_exporter": "python",
   "pygments_lexer": "ipython3",
   "version": "3.10.13"
  }
 },
 "nbformat": 4,
 "nbformat_minor": 5
}
