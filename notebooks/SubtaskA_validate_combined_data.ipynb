{
 "cells": [
  {
   "cell_type": "code",
   "execution_count": 2,
   "metadata": {},
   "outputs": [
    {
     "name": "stderr",
     "output_type": "stream",
     "text": [
      "/Users/tmarchitan/Developer/ml_research/machine-generated_text_detection/.env/lib/python3.11/site-packages/tqdm/auto.py:21: TqdmWarning: IProgress not found. Please update jupyter and ipywidgets. See https://ipywidgets.readthedocs.io/en/stable/user_install.html\n",
      "  from .autonotebook import tqdm as notebook_tqdm\n"
     ]
    }
   ],
   "source": [
    "import sys\n",
    "\n",
    "sys.path.append(\"../\")\n",
    "from lib.data.loading import pd_read_jsonl_file"
   ]
  },
  {
   "cell_type": "code",
   "execution_count": 3,
   "metadata": {},
   "outputs": [],
   "source": [
    "combined_data_subtask_a_train_file_path = \"../data/combined_data/SubtaskA/SubtaskA_train_monolingual.jsonl\"\n",
    "original_data_subtask_a_train_file_path = \"../data/original_data/SubtaskA/SubtaskA_train_monolingual.jsonl\"\n",
    "subtask_a_dev_file_path = \"../data/original_data/SubtaskA/SubtaskA_dev_monolingual.jsonl\"\n",
    "\n",
    "df_train_combined = pd_read_jsonl_file(combined_data_subtask_a_train_file_path)\n",
    "df_train_original = pd_read_jsonl_file(original_data_subtask_a_train_file_path)\n",
    "df_dev = pd_read_jsonl_file(subtask_a_dev_file_path)"
   ]
  },
  {
   "cell_type": "code",
   "execution_count": 4,
   "metadata": {},
   "outputs": [
    {
     "name": "stdout",
     "output_type": "stream",
     "text": [
      "Number of texts in df_1: 119757\n",
      "Number of texts in df_2: 5000\n",
      "Number of texts in df_1: 129755\n",
      "Number of texts in df_2: 5000\n",
      "Number of texts in intersection_original_count: 0/5000\n",
      "Number of texts in intersection_combined_count: 0/5000\n"
     ]
    }
   ],
   "source": [
    "def get_intersection_count(df_1, df_2):\n",
    "    # Check if there are duplicate texts between train and dev\n",
    "    texts_1 = set(df_1[\"text\"].tolist())\n",
    "    texts_2 = set(df_2[\"text\"].tolist())\n",
    "\n",
    "    print(f\"Number of texts in df_1: {len(texts_1)}\")\n",
    "    print(f\"Number of texts in df_2: {len(texts_2)}\")\n",
    "\n",
    "    # Check if the intersection is empty\n",
    "    intersection = texts_1.intersection(texts_2)\n",
    "    # print(f\"Number of texts in intersection: {len(intersection)}\")\n",
    "\n",
    "    return len(intersection)\n",
    "\n",
    "intersection_original_count = get_intersection_count(df_train_original, df_dev)\n",
    "intersection_combined_count = get_intersection_count(df_train_combined, df_dev)\n",
    "\n",
    "print(f\"Number of texts in intersection_original_count: {intersection_original_count}/{len(df_dev)}\")\n",
    "print(f\"Number of texts in intersection_combined_count: {intersection_combined_count}/{len(df_dev)}\")"
   ]
  }
 ],
 "metadata": {
  "kernelspec": {
   "display_name": ".env",
   "language": "python",
   "name": "python3"
  },
  "language_info": {
   "codemirror_mode": {
    "name": "ipython",
    "version": 3
   },
   "file_extension": ".py",
   "mimetype": "text/x-python",
   "name": "python",
   "nbconvert_exporter": "python",
   "pygments_lexer": "ipython3",
   "version": "3.11.3"
  }
 },
 "nbformat": 4,
 "nbformat_minor": 2
}
