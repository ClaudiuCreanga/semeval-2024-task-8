{
 "cells": [
  {
   "cell_type": "code",
   "execution_count": null,
   "id": "992f3917",
   "metadata": {},
   "outputs": [],
   "source": [
    "!python prepare_submission.py \\\n",
    "    --submission-file \"./runs/14-12-2023_09:51:09-SubtaskA-monolingual-bert/submission.csv\""
   ]
  }
 ],
 "metadata": {
  "kernelspec": {
   "display_name": "Python 3 (ipykernel)",
   "language": "python",
   "name": "python3"
  },
  "language_info": {
   "codemirror_mode": {
    "name": "ipython",
    "version": 3
   },
   "file_extension": ".py",
   "mimetype": "text/x-python",
   "name": "python",
   "nbconvert_exporter": "python",
   "pygments_lexer": "ipython3",
   "version": "3.11.5"
  }
 },
 "nbformat": 4,
 "nbformat_minor": 5
}
